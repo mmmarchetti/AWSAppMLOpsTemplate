{
 "cells": [
  {
   "cell_type": "code",
   "execution_count": 1,
   "metadata": {},
   "outputs": [
    {
     "name": "stderr",
     "output_type": "stream",
     "text": [
      "/usr/lib/python3/dist-packages/requests/__init__.py:89: RequestsDependencyWarning: urllib3 (1.26.16) or chardet (3.0.4) doesn't match a supported version!\n",
      "  warnings.warn(\"urllib3 ({}) or chardet ({}) doesn't match a supported \"\n"
     ]
    }
   ],
   "source": [
    "import mlflow\n",
    "import mlflow.sklearn\n",
    "from sklearn import datasets\n",
    "from sklearn.model_selection import train_test_split\n",
    "from sklearn.ensemble import RandomForestClassifier\n",
    "from sklearn.metrics import accuracy_score\n",
    "import pandas as pd\n",
    "import os\n"
   ]
  },
  {
   "cell_type": "code",
   "execution_count": 19,
   "metadata": {},
   "outputs": [],
   "source": [
    "# Set the location of the mlruns directory\n",
    "os.environ['MLFLOW_TRACKING_URI'] = 'file:/workspaces/CloudMLOpsTemplate/mlruns/'\n",
    "\n",
    "# Optional: set the default artifact location for new experiments\n",
    "os.environ['MLFLOW_ARTIFACT_LOCATION'] = 'file://workspaces/CloudMLOpsTemplate/mlruns/'"
   ]
  },
  {
   "cell_type": "code",
   "execution_count": 20,
   "metadata": {},
   "outputs": [],
   "source": [
    "iris = datasets.load_iris()\n",
    "iris_df = pd.DataFrame(iris.data, columns=iris.feature_names)\n",
    "iris_df['target'] = iris.target\n"
   ]
  },
  {
   "cell_type": "code",
   "execution_count": 21,
   "metadata": {},
   "outputs": [],
   "source": [
    "train, test = train_test_split(iris_df, test_size=0.2, random_state=42)\n",
    "train_x = train.drop([\"target\"], axis=1)\n",
    "test_x = test.drop([\"target\"], axis=1)\n",
    "train_y = train[[\"target\"]]\n",
    "test_y = test[[\"target\"]]\n"
   ]
  },
  {
   "cell_type": "code",
   "execution_count": 22,
   "metadata": {},
   "outputs": [
    {
     "name": "stderr",
     "output_type": "stream",
     "text": [
      "2023/06/07 17:17:54 INFO mlflow.tracking.fluent: Experiment with name 'Iris_RF_Experiment' does not exist. Creating a new experiment.\n"
     ]
    },
    {
     "data": {
      "text/plain": [
       "<Experiment: artifact_location='file:///workspaces/CloudMLOpsTemplate/mlruns/791980494791035675', creation_time=1686158274153, experiment_id='791980494791035675', last_update_time=1686158274153, lifecycle_stage='active', name='Iris_RF_Experiment', tags={}>"
      ]
     },
     "execution_count": 22,
     "metadata": {},
     "output_type": "execute_result"
    }
   ],
   "source": [
    "mlflow.set_experiment(\"Iris_RF_Experiment\")\n"
   ]
  },
  {
   "cell_type": "code",
   "execution_count": null,
   "metadata": {},
   "outputs": [],
   "source": [
    "with mlflow.start_run():\n",
    "    # Train and fit the RandomForest model\n",
    "    rf = RandomForestClassifier(random_state=42)\n",
    "    rf.fit(train_x, train_y.values.ravel())\n",
    "    \n",
    "    # Make predictions and calculate accuracy\n",
    "    predictions = rf.predict(test_x)\n",
    "    accuracy = accuracy_score(test_y, predictions)\n",
    "\n",
    "    # Log model\n",
    "    mlflow.sklearn.log_model(rf, \"model\")\n",
    "    \n",
    "    # Log metrics\n",
    "    mlflow.log_metric(\"accuracy\", accuracy)\n"
   ]
  },
  {
   "cell_type": "code",
   "execution_count": null,
   "metadata": {},
   "outputs": [],
   "source": []
  }
 ],
 "metadata": {
  "kernelspec": {
   "display_name": "Python 3",
   "language": "python",
   "name": "python3"
  },
  "language_info": {
   "codemirror_mode": {
    "name": "ipython",
    "version": 3
   },
   "file_extension": ".py",
   "mimetype": "text/x-python",
   "name": "python",
   "nbconvert_exporter": "python",
   "pygments_lexer": "ipython3",
   "version": "3.8.10"
  },
  "orig_nbformat": 4
 },
 "nbformat": 4,
 "nbformat_minor": 2
}
